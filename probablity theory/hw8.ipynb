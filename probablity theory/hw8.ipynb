{
 "cells": [
  {
   "cell_type": "code",
   "execution_count": 7,
   "metadata": {},
   "outputs": [],
   "source": [
    "import numpy as np\n",
    "import pandas as pd\n",
    "import scipy.stats as stats"
   ]
  },
  {
   "cell_type": "markdown",
   "metadata": {},
   "source": [
    "# HW 1"
   ]
  },
  {
   "cell_type": "code",
   "execution_count": 8,
   "metadata": {},
   "outputs": [
    {
     "data": {
      "text/plain": [
       "{'cov_manual': 9157.84,\n",
       " 'cov_np': 9157.84,\n",
       " 'pearson_corr_manual': 0.8874900920739162,\n",
       " 'pearson_corr_np': 0.8874900920739162,\n",
       " 'pearson_corr_pd': 0.8874900920739162}"
      ]
     },
     "execution_count": 8,
     "metadata": {},
     "output_type": "execute_result"
    }
   ],
   "source": [
    "# Данные\n",
    "zp = np.array([35, 45, 190, 200, 40, 70, 54, 150, 120, 110])\n",
    "ks = np.array([401, 574, 874, 919, 459, 739, 653, 902, 746, 832])\n",
    "\n",
    "# Шаг 1: Ковариация вручную\n",
    "mean_zp = np.mean(zp)\n",
    "mean_ks = np.mean(ks)\n",
    "cov_manual = np.mean((zp - mean_zp) * (ks - mean_ks))\n",
    "\n",
    "# Шаг 2: Ковариация с помощью numpy\n",
    "cov_np = np.cov(zp, ks, ddof=0)[0, 1]\n",
    "\n",
    "# Шаг 3: Коэффициент корреляции Пирсона вручную\n",
    "std_zp = np.std(zp, ddof=0)\n",
    "std_ks = np.std(ks, ddof=0)\n",
    "pearson_corr_manual = cov_manual / (std_zp * std_ks)\n",
    "\n",
    "# Шаг 4: Коэффициент корреляции Пирсона с использованием numpy и pandas\n",
    "pearson_corr_np = np.corrcoef(zp, ks)[0, 1]\n",
    "pearson_corr_pd = pd.Series(zp).corr(pd.Series(ks))\n",
    "\n",
    "{\n",
    "    \"cov_manual\": cov_manual,\n",
    "    \"cov_np\": cov_np,\n",
    "    \"pearson_corr_manual\": pearson_corr_manual,\n",
    "    \"pearson_corr_np\": pearson_corr_np,\n",
    "    \"pearson_corr_pd\": pearson_corr_pd\n",
    "}"
   ]
  },
  {
   "cell_type": "markdown",
   "metadata": {},
   "source": [
    "### Ковариация:\n",
    "- Рассчитанная вручную: 9157.84\n",
    "- Рассчитанная с помощью функции cov из numpy: 9157.84\n",
    "### Коэффициент корреляции Пирсона:\n",
    "- Рассчитанный вручную: 0.8875\n",
    "- Рассчитанный с помощью numpy: 0.8875\n",
    "- Рассчитанный с помощью pandas: 0.8875"
   ]
  },
  {
   "cell_type": "markdown",
   "metadata": {},
   "source": [
    "# HW 2"
   ]
  },
  {
   "cell_type": "markdown",
   "metadata": {},
   "source": [
    "### Для расчета доверительного интервала используем t-распределение, так как у нас небольшая выборка и неизвестна дисперсия генеральной совокупности."
   ]
  },
  {
   "cell_type": "code",
   "execution_count": 9,
   "metadata": {},
   "outputs": [
    {
     "data": {
      "text/plain": [
       "(110.55608365121006, 125.64391634878993)"
      ]
     },
     "execution_count": 9,
     "metadata": {},
     "output_type": "execute_result"
    }
   ],
   "source": [
    "# Данные\n",
    "iq = np.array([131, 125, 115, 122, 131, 115, 107, 99, 125, 111])\n",
    "\n",
    "# Параметры выборки\n",
    "mean_iq = np.mean(iq)\n",
    "std_iq = np.std(iq, ddof=1)\n",
    "n = len(iq)\n",
    "confidence = 0.95\n",
    "\n",
    "# Доверительный интервал\n",
    "t_critical = stats.t.ppf((1 + confidence) / 2, df=n-1)\n",
    "margin_of_error = t_critical * (std_iq / np.sqrt(n))\n",
    "confidence_interval_iq = (mean_iq - margin_of_error, mean_iq + margin_of_error)\n",
    "\n",
    "confidence_interval_iq"
   ]
  },
  {
   "cell_type": "markdown",
   "metadata": {},
   "source": [
    "# HW 3"
   ]
  },
  {
   "cell_type": "markdown",
   "metadata": {},
   "source": [
    "Для расчета доверительного интервала используем z-распределение, так как дисперсия генеральной совокупности известна."
   ]
  },
  {
   "cell_type": "code",
   "execution_count": 10,
   "metadata": {},
   "outputs": [
    {
     "data": {
      "text/plain": [
       "(172.3140237765397, 176.08597622346028)"
      ]
     },
     "execution_count": 10,
     "metadata": {},
     "output_type": "execute_result"
    }
   ],
   "source": [
    "# Данные\n",
    "variance_population = 25\n",
    "n_footballers = 27\n",
    "mean_sample = 174.2\n",
    "confidence = 0.95\n",
    "\n",
    "# Доверительный интервал\n",
    "z_critical = stats.norm.ppf((1 + confidence) / 2)\n",
    "std_error = np.sqrt(variance_population / n_footballers)\n",
    "margin_of_error = z_critical * std_error\n",
    "confidence_interval_height = (mean_sample - margin_of_error, mean_sample + margin_of_error)\n",
    "\n",
    "confidence_interval_height"
   ]
  },
  {
   "cell_type": "markdown",
   "metadata": {},
   "source": []
  }
 ],
 "metadata": {
  "kernelspec": {
   "display_name": "Python 3",
   "language": "python",
   "name": "python3"
  },
  "language_info": {
   "codemirror_mode": {
    "name": "ipython",
    "version": 3
   },
   "file_extension": ".py",
   "mimetype": "text/x-python",
   "name": "python",
   "nbconvert_exporter": "python",
   "pygments_lexer": "ipython3",
   "version": "3.11.9"
  }
 },
 "nbformat": 4,
 "nbformat_minor": 2
}
