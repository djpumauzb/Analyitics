{
 "cells": [
  {
   "cell_type": "code",
   "execution_count": 16,
   "metadata": {},
   "outputs": [],
   "source": [
    "import numpy as np"
   ]
  },
  {
   "cell_type": "code",
   "execution_count": 17,
   "metadata": {},
   "outputs": [
    {
     "data": {
      "text/plain": [
       "{'HW1 - β1 Без intercept': 5.889820420132689,\n",
       " 'HW1 - β1 С intercept': 2.6205388824027653,\n",
       " 'HW1 - β0 С intercept': 444.17735732435955,\n",
       " 'HW2 - β1 градиент без intercept': 5.889820420132673,\n",
       " 'HW3 - β0 градиент с intercept': 22.01241800969839,\n",
       " 'HW3 - β1 градиент с intercept': 5.727859485600107}"
      ]
     },
     "execution_count": 17,
     "metadata": {},
     "output_type": "execute_result"
    }
   ],
   "source": [
    "\n",
    "# Данные\n",
    "zp = np.array([35, 45, 190, 200, 40, 70, 54, 150, 120, 110])\n",
    "ks = np.array([401, 574, 874, 919, 459, 739, 653, 902, 746, 832])\n",
    "\n",
    "# Шаг 1: Линейная регрессия\n",
    "\n",
    "# Без intercept\n",
    "beta1_no_intercept = np.sum(zp * ks) / np.sum(zp**2)\n",
    "\n",
    "# С intercept\n",
    "mean_zp = np.mean(zp)\n",
    "mean_ks = np.mean(ks)\n",
    "\n",
    "beta1_intercept = np.sum((zp - mean_zp) * (ks - mean_ks)) / np.sum((zp - mean_zp)**2)\n",
    "beta0_intercept = mean_ks - beta1_intercept * mean_zp\n",
    "\n",
    "# Шаг 2: Градиентный спуск (без intercept)\n",
    "alpha = 1e-6  # Learning rate\n",
    "n = len(zp)\n",
    "beta1_gd_no_intercept = 0\n",
    "\n",
    "for _ in range(100000):\n",
    "    gradient = -2/n * np.sum((ks - beta1_gd_no_intercept * zp) * zp)\n",
    "    beta1_gd_no_intercept -= alpha * gradient\n",
    "\n",
    "# Шаг 3: Градиентный спуск (с intercept)\n",
    "beta0_gd = 0\n",
    "beta1_gd = 0\n",
    "\n",
    "for _ in range(100000):\n",
    "    y_pred = beta0_gd + beta1_gd * zp\n",
    "    error = ks - y_pred\n",
    "    beta0_gd -= alpha * (-2/n * np.sum(error))\n",
    "    beta1_gd -= alpha * (-2/n * np.sum(error * zp))\n",
    "\n",
    "{\n",
    "    \"HW1 - β1 Без intercept\": beta1_no_intercept,\n",
    "    \"HW1 - β1 С intercept\": beta1_intercept,\n",
    "    \"HW1 - β0 С intercept\": beta0_intercept,\n",
    "    \"HW2 - β1 градиент без intercept\": beta1_gd_no_intercept,\n",
    "    \"HW3 - β0 градиент с intercept\": beta0_gd,\n",
    "    \"HW3 - β1 градиент с intercept\": beta1_gd\n",
    "}"
   ]
  },
  {
   "cell_type": "markdown",
   "metadata": {},
   "source": [
    "### HW 2"
   ]
  },
  {
   "cell_type": "code",
   "execution_count": null,
   "metadata": {},
   "outputs": [],
   "source": []
  }
 ],
 "metadata": {
  "kernelspec": {
   "display_name": "Python 3",
   "language": "python",
   "name": "python3"
  },
  "language_info": {
   "codemirror_mode": {
    "name": "ipython",
    "version": 3
   },
   "file_extension": ".py",
   "mimetype": "text/x-python",
   "name": "python",
   "nbconvert_exporter": "python",
   "pygments_lexer": "ipython3",
   "version": "3.11.9"
  }
 },
 "nbformat": 4,
 "nbformat_minor": 2
}
