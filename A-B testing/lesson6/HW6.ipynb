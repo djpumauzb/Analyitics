{
 "cells": [
  {
   "cell_type": "markdown",
   "metadata": {},
   "source": [
    "### Задача 1: **Размер выборки для конверсии с 15% до 25%**\n",
    "\n",
    "**Дано:**\n",
    "\n",
    "- Текущая конверсия: **15%**\n",
    "- Желаемая конверсия: **25%**\n",
    "- Размер базы: **40,000 человек**"
   ]
  },
  {
   "cell_type": "code",
   "execution_count": 3,
   "metadata": {},
   "outputs": [
    {
     "data": {
      "text/plain": [
       "(247, 494)"
      ]
     },
     "execution_count": 3,
     "metadata": {},
     "output_type": "execute_result"
    }
   ],
   "source": [
    "from scipy.stats import norm\n",
    "\n",
    "# Данные\n",
    "p1 = 0.15  # Текущая конверсия\n",
    "p2 = 0.25  # Желаемая конверсия\n",
    "alpha = 0.05  # Уровень значимости\n",
    "power = 0.8  # Мощность теста\n",
    "\n",
    "# Z-значения\n",
    "z_alpha = norm.ppf(1 - alpha / 2)  # Квантиль для уровня значимости\n",
    "z_beta = norm.ppf(power)  # Квантиль для мощности\n",
    "\n",
    "# Формула для размера выборки\n",
    "numerator = (z_alpha + z_beta) ** 2 * (p1 * (1 - p1) + p2 * (1 - p2))\n",
    "denominator = (p2 - p1) ** 2\n",
    "\n",
    "sample_size = numerator / denominator\n",
    "\n",
    "sample_size_per_group = round(sample_size)  # Округляем размер выборки для каждой группы\n",
    "sample_size_total = 2 * sample_size_per_group  # Общий размер выборки\n",
    "sample_size_per_group, sample_size_total"
   ]
  }
 ],
 "metadata": {
  "kernelspec": {
   "display_name": "Python 3",
   "language": "python",
   "name": "python3"
  },
  "language_info": {
   "codemirror_mode": {
    "name": "ipython",
    "version": 3
   },
   "file_extension": ".py",
   "mimetype": "text/x-python",
   "name": "python",
   "nbconvert_exporter": "python",
   "pygments_lexer": "ipython3",
   "version": "3.13.0"
  }
 },
 "nbformat": 4,
 "nbformat_minor": 2
}
