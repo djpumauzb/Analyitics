{
 "cells": [
  {
   "cell_type": "markdown",
   "metadata": {},
   "source": [
    "<p style=\"align: center;\"><img align=center src=\"https://mailfit.com/wp-content/uploads/2019/11/lego-5.png\"  width=900></p>\n",
    "<h1 style=\"text-align: center;\"><b>«Домашняя работа» - Ускорение тестирования</b></h3>\n"
   ]
  },
  {
   "cell_type": "markdown",
   "metadata": {},
   "source": [
    "## Импорт библиотек"
   ]
  },
  {
   "cell_type": "code",
   "execution_count": 5,
   "metadata": {},
   "outputs": [],
   "source": [
    "import numpy as np\n",
    "import pandas as pd\n",
    "\n",
    "import scipy\n",
    "\n",
    "import matplotlib.pyplot as plt\n",
    "import seaborn as sns\n",
    "sns.set_theme()"
   ]
  },
  {
   "cell_type": "markdown",
   "metadata": {},
   "source": [
    "## Импорт данных"
   ]
  },
  {
   "cell_type": "code",
   "execution_count": 6,
   "metadata": {},
   "outputs": [
    {
     "name": "stdout",
     "output_type": "stream",
     "text": [
      "Размеры датасета (50000, 2)\n"
     ]
    },
    {
     "data": {
      "text/html": [
       "<div>\n",
       "<style scoped>\n",
       "    .dataframe tbody tr th:only-of-type {\n",
       "        vertical-align: middle;\n",
       "    }\n",
       "\n",
       "    .dataframe tbody tr th {\n",
       "        vertical-align: top;\n",
       "    }\n",
       "\n",
       "    .dataframe thead th {\n",
       "        text-align: right;\n",
       "    }\n",
       "</style>\n",
       "<table border=\"1\" class=\"dataframe\">\n",
       "  <thead>\n",
       "    <tr style=\"text-align: right;\">\n",
       "      <th></th>\n",
       "      <th>group</th>\n",
       "      <th>metrica</th>\n",
       "    </tr>\n",
       "    <tr>\n",
       "      <th>strata</th>\n",
       "      <th></th>\n",
       "      <th></th>\n",
       "    </tr>\n",
       "  </thead>\n",
       "  <tbody>\n",
       "    <tr>\n",
       "      <th>11</th>\n",
       "      <td>history</td>\n",
       "      <td>42.631346</td>\n",
       "    </tr>\n",
       "    <tr>\n",
       "      <th>6</th>\n",
       "      <td>history</td>\n",
       "      <td>14.844453</td>\n",
       "    </tr>\n",
       "    <tr>\n",
       "      <th>4</th>\n",
       "      <td>history</td>\n",
       "      <td>2.362768</td>\n",
       "    </tr>\n",
       "    <tr>\n",
       "      <th>37</th>\n",
       "      <td>history</td>\n",
       "      <td>79.494017</td>\n",
       "    </tr>\n",
       "    <tr>\n",
       "      <th>18</th>\n",
       "      <td>history</td>\n",
       "      <td>-22.627788</td>\n",
       "    </tr>\n",
       "    <tr>\n",
       "      <th>34</th>\n",
       "      <td>history</td>\n",
       "      <td>28.679378</td>\n",
       "    </tr>\n",
       "  </tbody>\n",
       "</table>\n",
       "</div>"
      ],
      "text/plain": [
       "          group    metrica\n",
       "strata                    \n",
       "11      history  42.631346\n",
       "6       history  14.844453\n",
       "4       history   2.362768\n",
       "37      history  79.494017\n",
       "18      history -22.627788\n",
       "34      history  28.679378"
      ]
     },
     "execution_count": 6,
     "metadata": {},
     "output_type": "execute_result"
    }
   ],
   "source": [
    "data_path = \"https://raw.githubusercontent.com/a-milenkin/Datasetes_for_Piplines/main/SkillBox/ab_speedup.csv\"\n",
    "data = pd.read_csv(data_path, index_col=0)\n",
    "print(\"Размеры датасета\", data.shape)\n",
    "data.head(6)"
   ]
  },
  {
   "cell_type": "markdown",
   "metadata": {},
   "source": [
    "<div class=\"alert alert-info\">\n",
    "<b>Про Датасет</b>\n",
    "    \n",
    "Датасет представляет собой результаты некоторого А/B-Теста. \n",
    "\n",
    "* `strata` - Некоторая информация по страту (группа), к которой относится пользователь. \n",
    "* `group` - Группа эксперимента - тестовая, контрольная или прошлая история. \n",
    "* `metrica` - Целивая метрика\n",
    "    \n",
    "</div>"
   ]
  },
  {
   "cell_type": "code",
   "execution_count": 10,
   "metadata": {},
   "outputs": [
    {
     "name": "stdout",
     "output_type": "stream",
     "text": [
      "   strata    group    metrica\n",
      "0      11  history  42.631346\n",
      "1       6  history  14.844453\n",
      "2       4  history   2.362768\n",
      "3      37  history  79.494017\n",
      "4      18  history -22.627788\n"
     ]
    }
   ],
   "source": [
    "data = data.reset_index()  # Сброс индекса\n",
    "print(data.head())  # Проверьте результат"
   ]
  },
  {
   "cell_type": "code",
   "execution_count": 11,
   "metadata": {},
   "outputs": [
    {
     "name": "stdout",
     "output_type": "stream",
     "text": [
      "group\n",
      "B          21430\n",
      "A          21427\n",
      "history     7143\n",
      "Name: count, dtype: int64\n",
      "strata\n",
      "11    1000\n",
      "6     1000\n",
      "4     1000\n",
      "37    1000\n",
      "18    1000\n",
      "34    1000\n",
      "9     1000\n",
      "16    1000\n",
      "43    1000\n",
      "15    1000\n",
      "20    1000\n",
      "25    1000\n",
      "0     1000\n",
      "45    1000\n",
      "23    1000\n",
      "35    1000\n",
      "21    1000\n",
      "46    1000\n",
      "22    1000\n",
      "17    1000\n",
      "3     1000\n",
      "41    1000\n",
      "44    1000\n",
      "12    1000\n",
      "13    1000\n",
      "24    1000\n",
      "1     1000\n",
      "26    1000\n",
      "7     1000\n",
      "30    1000\n",
      "27    1000\n",
      "2     1000\n",
      "8     1000\n",
      "40    1000\n",
      "33    1000\n",
      "10    1000\n",
      "36    1000\n",
      "31    1000\n",
      "32    1000\n",
      "39    1000\n",
      "19    1000\n",
      "5     1000\n",
      "28    1000\n",
      "29    1000\n",
      "38    1000\n",
      "47    1000\n",
      "42    1000\n",
      "14    1000\n",
      "49    1000\n",
      "48    1000\n",
      "Name: count, dtype: int64\n"
     ]
    },
    {
     "data": {
      "text/html": [
       "<div>\n",
       "<style scoped>\n",
       "    .dataframe tbody tr th:only-of-type {\n",
       "        vertical-align: middle;\n",
       "    }\n",
       "\n",
       "    .dataframe tbody tr th {\n",
       "        vertical-align: top;\n",
       "    }\n",
       "\n",
       "    .dataframe thead th {\n",
       "        text-align: right;\n",
       "    }\n",
       "</style>\n",
       "<table border=\"1\" class=\"dataframe\">\n",
       "  <thead>\n",
       "    <tr style=\"text-align: right;\">\n",
       "      <th></th>\n",
       "      <th>strata</th>\n",
       "      <th>metrica</th>\n",
       "    </tr>\n",
       "  </thead>\n",
       "  <tbody>\n",
       "    <tr>\n",
       "      <th>count</th>\n",
       "      <td>50000.000000</td>\n",
       "      <td>50000.000000</td>\n",
       "    </tr>\n",
       "    <tr>\n",
       "      <th>mean</th>\n",
       "      <td>24.500000</td>\n",
       "      <td>35.654712</td>\n",
       "    </tr>\n",
       "    <tr>\n",
       "      <th>std</th>\n",
       "      <td>14.431014</td>\n",
       "      <td>34.291229</td>\n",
       "    </tr>\n",
       "    <tr>\n",
       "      <th>min</th>\n",
       "      <td>0.000000</td>\n",
       "      <td>-147.125702</td>\n",
       "    </tr>\n",
       "    <tr>\n",
       "      <th>25%</th>\n",
       "      <td>12.000000</td>\n",
       "      <td>13.154502</td>\n",
       "    </tr>\n",
       "    <tr>\n",
       "      <th>50%</th>\n",
       "      <td>24.500000</td>\n",
       "      <td>28.380041</td>\n",
       "    </tr>\n",
       "    <tr>\n",
       "      <th>75%</th>\n",
       "      <td>37.000000</td>\n",
       "      <td>53.585312</td>\n",
       "    </tr>\n",
       "    <tr>\n",
       "      <th>max</th>\n",
       "      <td>49.000000</td>\n",
       "      <td>230.607984</td>\n",
       "    </tr>\n",
       "  </tbody>\n",
       "</table>\n",
       "</div>"
      ],
      "text/plain": [
       "             strata       metrica\n",
       "count  50000.000000  50000.000000\n",
       "mean      24.500000     35.654712\n",
       "std       14.431014     34.291229\n",
       "min        0.000000   -147.125702\n",
       "25%       12.000000     13.154502\n",
       "50%       24.500000     28.380041\n",
       "75%       37.000000     53.585312\n",
       "max       49.000000    230.607984"
      ]
     },
     "execution_count": 11,
     "metadata": {},
     "output_type": "execute_result"
    }
   ],
   "source": [
    "# Проверим уникальные значения в группах и стратах\n",
    "print(data['group'].value_counts())\n",
    "print(data['strata'].value_counts())\n",
    "\n",
    "# Посмотрим общую статистику\n",
    "data.describe()"
   ]
  },
  {
   "cell_type": "markdown",
   "metadata": {},
   "source": [
    "<div class=\"alert alert-info\">\n",
    "\n",
    "<b>Задание:</b>    \n",
    "    \n",
    "Найти различие между группами, увеличив чувствительность тестов тремя способами поочередно:\n",
    "* Бутстрап\n",
    "* Стратификация\n",
    "* CUPED\n",
    "    \n",
    "Вспомогательная статья Валерия Бабушкина про стратификацию и CUPED:\n",
    "\n",
    "* habr.com/ru/company/yandex/blog/497804/"
   ]
  },
  {
   "cell_type": "markdown",
   "metadata": {},
   "source": [
    "## Метод 1: Бутстрап\n",
    "Бутстрап позволяет проводить сравнение метрик между тестовой и контрольной группами, увеличивая чувствительность анализа.\n",
    "\n",
    "Шаги:\n",
    "\n",
    "1. Разделим данные на тестовую и контрольную группы.\n",
    "2. Проведем бутстрап для оценивания различий в метрике."
   ]
  },
  {
   "cell_type": "code",
   "execution_count": null,
   "metadata": {},
   "outputs": [
    {
     "name": "stdout",
     "output_type": "stream",
     "text": [
      "95% доверительный интервал для разницы: [-1.45780095 -0.17662632]\n"
     ]
    }
   ],
   "source": [
    "# Разделение данных на группы\n",
    "control = data[data['group']== 'A']['metrica']\n",
    "test = data[data['group'] == 'B']['metrica']\n",
    "\n",
    "# Bootstrap function\n",
    "def bootstrap(data1, data2, n_bootstrap=1000):\n",
    "    boot_means_diff = []\n",
    "    for _ in range(n_bootstrap):\n",
    "        sample1 = np.random.choice(data1, size=len(data1), replace=True)\n",
    "        sample2 = np.random.choice(data2, size=len(data2), replace=True)\n",
    "        boot_means_diff.append(np.mean(sample2)-np.mean(sample1))\n",
    "    return np.percentile(boot_means_diff, [2.5, 97.5])\n",
    "\n",
    "# Bootstrap for difference\n",
    "conf_int = bootstrap(control, test)\n",
    "print(f\"95% доверительный интервал для разницы: {conf_int}\")"
   ]
  },
  {
   "cell_type": "markdown",
   "metadata": {},
   "source": [
    "###  Метод 2: Стратификация\n",
    "Стратификация использует информацию о стратах для повышения точности оценок.\n",
    "\n",
    "Шаги:\n",
    "\n",
    "1. Группировка данных по `strata` и расчет средних значений метрик внутри каждой группы.\n",
    "2. Проведение сравнения между тестовой и контрольной группами с учетом страт."
   ]
  },
  {
   "cell_type": "code",
   "execution_count": 15,
   "metadata": {},
   "outputs": [
    {
     "name": "stdout",
     "output_type": "stream",
     "text": [
      "Средняя разница метрик между группами с учетом страт: 0.5604612024686025\n"
     ]
    }
   ],
   "source": [
    "# Mean value metrics by strata\n",
    "starata_mean = data.groupby(['strata', 'group'])['metrica'].mean().unstack()\n",
    "\n",
    "# Сраsвнение метрики с учетом страт\n",
    "strata_diff = starata_mean['A'] - starata_mean['B']\n",
    "overall_diff = strata_diff.mean()\n",
    "\n",
    "print(f\"Средняя разница метрик между группами с учетом страт: {overall_diff}\")\n"
   ]
  },
  {
   "cell_type": "markdown",
   "metadata": {},
   "source": [
    "### Метод 3: CUPED\n",
    "CUPED (Controlled Pre-Experiment Data) использует предтестовые данные для уменьшения дисперсии целевой метрики.\n",
    "\n",
    "Шаги:\n",
    "\n",
    "1. Добавим предположение о предтестовых данных (например, создадим синтетический столбец `pre_metrica`).\n",
    "2. Проведем расчет CUPED-метрики и сравним группы."
   ]
  },
  {
   "cell_type": "code",
   "execution_count": 17,
   "metadata": {},
   "outputs": [
    {
     "name": "stdout",
     "output_type": "stream",
     "text": [
      "Средняя разница по CUPED: -0.00044638494333781864\n",
      "95% доверительный интервал для разницы (CUPED): [-0.00235242  0.00150289]\n"
     ]
    }
   ],
   "source": [
    "# Создаем синтетические предпредставительные данн\n",
    "np.random.seed(42)\n",
    "data['pre_metrica'] = data['metrica'] + np.random.normal(0, 0.1, size=len(data))\n",
    "\n",
    "# Рассчитываем CUPED\n",
    "theta = np.corrcoef(data['pre_metrica'], data['metrica'])[0,1]\n",
    "data['cuped_metrica'] = data['metrica'] - theta * (data['pre_metrica'] - np.mean(data['pre_metrica']))\n",
    "\n",
    "# Сравнение групп по CUPED\n",
    "cuped_B = data[data['group'] == 'B']['cuped_metrica']\n",
    "cuped_A = data[data['group'] == 'A']['cuped_metrica']\n",
    "\n",
    "# Расчет среднего значения и доверительного интервала\n",
    "mean_diff_cuped = np.mean(cuped_A) - np.mean(cuped_B)\n",
    "conf_int_cuped = bootstrap(cuped_B, cuped_A)\n",
    "\n",
    "print(f\"Средняя разница по CUPED: {mean_diff_cuped}\")\n",
    "print(f\"95% доверительный интервал для разницы (CUPED): {conf_int_cuped}\")"
   ]
  }
 ],
 "metadata": {
  "kernelspec": {
   "display_name": "Python 3",
   "language": "python",
   "name": "python3"
  },
  "language_info": {
   "codemirror_mode": {
    "name": "ipython",
    "version": 3
   },
   "file_extension": ".py",
   "mimetype": "text/x-python",
   "name": "python",
   "nbconvert_exporter": "python",
   "pygments_lexer": "ipython3",
   "version": "3.13.0"
  },
  "toc": {
   "base_numbering": 1,
   "nav_menu": {},
   "number_sections": true,
   "sideBar": true,
   "skip_h1_title": false,
   "title_cell": "Table of Contents",
   "title_sidebar": "Contents",
   "toc_cell": false,
   "toc_position": {},
   "toc_section_display": true,
   "toc_window_display": false
  }
 },
 "nbformat": 4,
 "nbformat_minor": 4
}
