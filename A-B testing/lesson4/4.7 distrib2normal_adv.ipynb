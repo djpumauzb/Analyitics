{
 "cells": [
  {
   "cell_type": "markdown",
   "metadata": {},
   "source": [
    "<p style=\"align: center;\"><img align=center src=\"https://mailfit.com/wp-content/uploads/2019/11/lego-5.png\"  width=900></p>\n",
    "<h1 style=\"text-align: center;\"><b>«Практика № 5 - Продвинутые инструменты для работы с ненормальным распределением\n",
    "»</b></h3>\n"
   ]
  },
  {
   "cell_type": "markdown",
   "metadata": {},
   "source": [
    "# Вспомним теорию - ЦПТ"
   ]
  },
  {
   "cell_type": "markdown",
   "metadata": {},
   "source": [
    "<div class=\"alert alert-info\">\n",
    "    \n",
    "Пусть есть бесконечная последовательность независимых одинаково распределенных случайных величин с конечным математическим ожиданием и дисперсией. Тогда:"
   ]
  },
  {
   "cell_type": "markdown",
   "metadata": {},
   "source": [
    "<img src='https://encrypted-tbn0.gstatic.com/images?q=tbn:ANd9GcS5j9TYiUJzCjPsfT7_zXuWwmA3Fyg8vaf_JA&usqp=CAU'>"
   ]
  },
  {
   "cell_type": "markdown",
   "metadata": {},
   "source": [
    "# Бустрап"
   ]
  },
  {
   "cell_type": "markdown",
   "metadata": {},
   "source": [
    "<p style=\"align: center;\"><img align=center src=\"data:image/png;base64,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\"  width=600></p>\n"
   ]
  },
  {
   "cell_type": "markdown",
   "metadata": {},
   "source": [
    "# Покемоны и AB-тестирование \n",
    "(реальный кейс собеседования на позицию Аналитика).\n",
    "\n",
    "\n",
    "# Описание задачи\n",
    "\n",
    "![banner](https://storage.googleapis.com/kaggle-datasets-images/635/1204/126be74882028aac7241553cef0e27a7/dataset-original.jpg)\n",
    "\n",
    "Покемоны - это маленькие существа, которые сражаются друг с другом на соревнованиях. Все покемоны имеют разные характеристики (сила атаки, защиты и т. д.) И относятся к одному или двум так называемым классам (вода, огонь и т. д.).\n",
    "Профессор Оук является изобретателем Pokedex, портативного устройства, которое хранит информацию обо всех существующих покемонах. Как его ведущий специалист по данным, Вы только что получили от него запрос с просьбой осуществить аналитику данных на всех устройствах Pokedex. \n",
    "\n",
    "## Описание набора данных\n",
    "Профессор Оук скопировал все содержимое памяти одного устройства Pokedex, в результате чего получился набор данных, с которым Вы будете работать в этой задаче. В этом файле каждая строка представляет характеристики одного покемона:\n",
    "\n",
    "* `pid`: Numeric - ID покемона\n",
    "* `HP`: Numeric - Очки здоровья\n",
    "* `Attack`: Numeric - Сила обычной атаки\n",
    "* `Defense`: Numeric - Сила обычной защиты\n",
    "* `Sp. Atk`: Numeric - Сила специальной атаки\n",
    "* `Sp. Def`: Numeric - Сила специальной защиты\n",
    "* `Speed`: Numeric - Скорость движений\n",
    "* `Legendary`: Boolean - «True», если покемон редкий\n",
    "* `Class 1`: Categorical - Класс покемона\n",
    "* `Class 2`: Categorical - Класс покемона"
   ]
  },
  {
   "cell_type": "markdown",
   "metadata": {},
   "source": [
    "# Данные A/B тестирования"
   ]
  },
  {
   "cell_type": "code",
   "execution_count": null,
   "metadata": {},
   "outputs": [],
   "source": [
    "import pandas as pd # Для удобной работы с таблицами \n",
    "import numpy as np\n",
    "\n",
    "from scipy import stats # При работе со статистикой"
   ]
  },
  {
   "cell_type": "code",
   "execution_count": null,
   "metadata": {},
   "outputs": [],
   "source": [
    "pokemon_path = 'https://raw.githubusercontent.com/a-milenkin/datasets_for_t-tests/main/pokemon.csv'\n",
    "\n",
    "data = pd.read_csv(pokemon_path, error_bad_lines=False)  # Откроем датасет\n",
    "data.head()\n",
    "\n",
    "# Обратите внимание, что у покемона может быть один или два класса. Если у покемона два класса, считается,\n",
    "# что они имеют одинаковую значимость"
   ]
  },
  {
   "cell_type": "code",
   "execution_count": null,
   "metadata": {},
   "outputs": [],
   "source": [
    "# Сгруппируем информацию по классу\n",
    "data.groupby('Class 1').mean()"
   ]
  },
  {
   "cell_type": "code",
   "execution_count": null,
   "metadata": {},
   "outputs": [],
   "source": [
    "# Сгруппируем по классам и посчитаем количество в каждом классе, чтоб определеить самые представленные\n",
    "# data['Class 1'].value_counts()"
   ]
  },
  {
   "cell_type": "markdown",
   "metadata": {},
   "source": [
    "# Задача - сравнить два класса покемонов"
   ]
  },
  {
   "cell_type": "markdown",
   "metadata": {},
   "source": [
    "<div class=\"alert alert-warning\">\n",
    "\n",
    "\n",
    "Датасет полезный, т.к он комбинирует в себе как численные признаки, так и категориальные!\n",
    "    \n",
    "На этом датасете можно проверить множество гипотез. Однако, начнем с того, что проверим, есть ли значимое различие в аттаке (Attack) между двумя классами покемонов **Normal** и **Water**\n",
    "    \n",
    "</div>"
   ]
  },
  {
   "cell_type": "markdown",
   "metadata": {},
   "source": [
    "# Посмотрим на распределения в каждой группе"
   ]
  },
  {
   "cell_type": "markdown",
   "metadata": {},
   "source": [
    "<div class=\"alert alert-info\">\n",
    "Гистограмма позволяет зрительно оценить распределение данных. Гистограмма дает информацию о разбросе, средних значениях.\n",
    "Важно иметь нормальное распределение, чтобы в дальнейшем мы могли их анализировать, для других критериев распределение не имеет значения.\n",
    "</div>"
   ]
  },
  {
   "cell_type": "code",
   "execution_count": null,
   "metadata": {},
   "outputs": [],
   "source": [
    "import matplotlib.pyplot as plt"
   ]
  },
  {
   "cell_type": "code",
   "execution_count": null,
   "metadata": {},
   "outputs": [],
   "source": [
    "column2compare = 'Defense'\n",
    "\n",
    "v_1 = data.loc[data[\"Class 1\"] == \"Water\"]\n",
    "v_2 = data.loc[data[\"Class 1\"] == \"Normal\"]\n",
    "\n",
    "bins = 15\n",
    "plt.figure(figsize=(15, 10))\n",
    "plt.hist(v_1[column2compare], bins=bins, alpha=0.9, edgecolor=\"black\", label=\"Water\")\n",
    "plt.hist(v_2[column2compare], bins=bins, alpha=0.7, label=\"Normal\")\n",
    "plt.legend(loc=\"upper right\")\n",
    "plt.show()"
   ]
  },
  {
   "cell_type": "markdown",
   "metadata": {},
   "source": [
    "<div class=\"alert alert-info\">\n",
    "\n",
    "Видим, что отличий заметить не удается! Более того, распределение не совсем нормальное"
   ]
  },
  {
   "cell_type": "code",
   "execution_count": null,
   "metadata": {},
   "outputs": [],
   "source": [
    "# тест Шапиро!\n",
    "\n",
    "statistic, p_value = stats.shapiro(data[\"Attack\"])\n",
    "\n",
    "print(\"Статистики=%.3f, p=%.3f\" % (statistic, p_value))\n",
    "\n",
    "alpha = 0.05\n",
    "if p_value > alpha:  # Интерпретируем\n",
    "    # H_0 = Распределение нормальное\n",
    "    print(\"Нормальное распределение (не отвергаем H0)\")\n",
    "else:\n",
    "    print(\"Не нормальное распределения (отвергаем H0)\")"
   ]
  },
  {
   "cell_type": "code",
   "execution_count": null,
   "metadata": {},
   "outputs": [],
   "source": [
    " "
   ]
  },
  {
   "cell_type": "code",
   "execution_count": null,
   "metadata": {},
   "outputs": [],
   "source": [
    "import seaborn as sns\n",
    "\n",
    "\n",
    "def show_boxplt(data):\n",
    "    df = data  # .loc[data['Attack'] < 170].copy(); #  Можно удилить выбросы при желении\n",
    "\n",
    "    return sns.catplot(\n",
    "        x=\"Class 1\",\n",
    "        y=\"Attack\",\n",
    "        hue=\"Legendary\",  # col = 'Legendary',\n",
    "        data=df,\n",
    "        kind=\"box\",\n",
    "        height=8,\n",
    "        aspect=1.5,\n",
    "    )\n",
    "\n",
    "\n",
    "show_boxplt(data)"
   ]
  },
  {
   "cell_type": "markdown",
   "metadata": {},
   "source": [
    "# А что скажут критерии?"
   ]
  },
  {
   "cell_type": "code",
   "execution_count": null,
   "metadata": {},
   "outputs": [],
   "source": [
    "t_value, p_value = stats.ttest_ind(v_1[\"Attack\"], v_2[\"Attack\"])\n",
    "\n",
    "alpha = 0.05\n",
    "if p_value > alpha:  # Интерпретируем\n",
    "    print(\"Одинаковые распределения (не отвергаем H0)\")\n",
    "else:\n",
    "    print(\"Разные распределения (отвергаем H0)\")"
   ]
  },
  {
   "cell_type": "code",
   "execution_count": null,
   "metadata": {},
   "outputs": [],
   "source": [
    "t_value, p_value = stats.mannwhitneyu(v_1[\"Attack\"], v_2[\"Attack\"])\n",
    "\n",
    "alpha = 0.05\n",
    "if p_value > alpha:  # Интерпретируем\n",
    "    print(\"Одинаковые распределения (не отвергаем H0)\")\n",
    "else:\n",
    "    print(\"Разные распределения (отвергаем H0)\")"
   ]
  },
  {
   "cell_type": "markdown",
   "metadata": {},
   "source": [
    "<div class=\"alert alert-warning\">\n",
    "\n",
    "Хм, пока не получилось, но мы не будем утчаиваться!!!"
   ]
  },
  {
   "cell_type": "code",
   "execution_count": null,
   "metadata": {},
   "outputs": [],
   "source": [
    "#Как получить нормальное распределение в данных? Можно взять логарифм. Но тоже выйдет не очень хорошо в этом случае.\n",
    "# plt.hist(np.log(v_30['sum_gamerounds']+0.001), bins=15, alpha=1, edgecolor='black', label='gate 30', density=True);\n",
    "# plt.hist(np.log(v_40['sum_gamerounds']+0.001), bins=15, alpha=1, edgecolor='black', label='gate 40', density=True);"
   ]
  },
  {
   "cell_type": "markdown",
   "metadata": {},
   "source": [
    "# Будстреп или ЦПТ в деле !!!!\n",
    "\n",
    "Если вдруг оказалось сложно, то вот еще один способ визуализации различий - будстреп"
   ]
  },
  {
   "cell_type": "code",
   "execution_count": null,
   "metadata": {},
   "outputs": [],
   "source": [
    "from tqdm import tqdm # для визуализации работы цикла\n",
    "\n",
    "\n",
    "plt.figure(figsize=(15, 10))\n",
    "\n",
    "boot_1d = [] # Создаем список получаемых будстапированных значений средних в каждого классе\n",
    "for i in tqdm(range(1000)):\n",
    "    boot_mean = (\n",
    "        data.sample(frac=1, replace=True).groupby(\"Class 1\")[\"Attack\"].mean()\n",
    "    )  # retention_1\n",
    "    boot_1d.append(boot_mean)\n",
    "\n",
    "# Преобразование списка в DataFrame\n",
    "boot_1d = pd.DataFrame(boot_1d)\n",
    "\n",
    "# A Kernel Density Estimate plot of the bootstrap distributions\n",
    "boot_1d.plot(kind=\"density\", figsize=(15, 5));"
   ]
  },
  {
   "cell_type": "code",
   "execution_count": null,
   "metadata": {},
   "outputs": [],
   "source": [
    "# Распределения похожи на нормальные. Классы  между собой отличаются"
   ]
  },
  {
   "cell_type": "code",
   "execution_count": null,
   "metadata": {},
   "outputs": [],
   "source": [
    "# Для интересующих нас классов Water\n",
    "\n",
    "boot_1d[[\"Normal\", \"Water\"]].plot(kind=\"density\", figsize=(15, 5))"
   ]
  },
  {
   "cell_type": "markdown",
   "metadata": {},
   "source": [
    "<div class=\"alert alert-success\">\n",
    "    \n",
    "Отлично. Мы заметили различия невооруженным глазом!\n",
    "    \n",
    "Такой способ увеливает чувствительно критериев в разы. Проверим это!\n",
    "    \n",
    "Теперь критерий Стьюдента тоже справиться с этой задачей"
   ]
  },
  {
   "cell_type": "code",
   "execution_count": null,
   "metadata": {},
   "outputs": [],
   "source": [
    "t_value, p_value = stats.ttest_ind(boot_1d[\"Normal\"], boot_1d[\"Water\"])\n",
    "\n",
    "alpha = 0.05\n",
    "if p_value > alpha:  # Интерпретируем\n",
    "    print(\"Одинаковые распределения (не отвергаем H0)\")\n",
    "else:\n",
    "    print(\"Разные распределения (отвергаем H0)\")"
   ]
  },
  {
   "cell_type": "code",
   "execution_count": null,
   "metadata": {},
   "outputs": [],
   "source": []
  },
  {
   "cell_type": "code",
   "execution_count": null,
   "metadata": {},
   "outputs": [],
   "source": []
  },
  {
   "cell_type": "markdown",
   "metadata": {},
   "source": [
    "# Больше данных или для чего нужен бакетинг"
   ]
  },
  {
   "cell_type": "code",
   "execution_count": null,
   "metadata": {},
   "outputs": [],
   "source": [
    "pokemon_path = 'https://raw.githubusercontent.com/a-milenkin/mipt_data_science_2021/main/data/big_dataset_pokemons.csv'\n",
    "\n",
    "big_data = pd.read_csv(pokemon_path, error_bad_lines=False, index_col=0)  # Откроем датасет\n",
    "print(big_data.shape)\n",
    "big_data.head()\n",
    "\n",
    "# Обратите внимание, что у покемона может быть один или два класса. Если у покемона два класса, считается,\n",
    "# что они имеют одинаковую значимость"
   ]
  },
  {
   "cell_type": "code",
   "execution_count": null,
   "metadata": {},
   "outputs": [],
   "source": [
    "sns.displot(big_data, x='Attack', hue = 'Class 1', alpha=0.5, height = 6, aspect=2.5); "
   ]
  },
  {
   "cell_type": "code",
   "execution_count": null,
   "metadata": {},
   "outputs": [],
   "source": [
    "# Проверим распределение с помощью теста Шапиро!\n",
    "\n",
    "statistic, p_value = stats.shapiro(big_data[\"Attack\"])\n",
    "print(\"Статистики=%.3f, p=%.3f\" % (statistic, p_value))\n",
    "\n",
    "if p_value > 0.05:  # Интерпретируем\n",
    "    # H_0 = Распределение нормальное\n",
    "    print(\"Нормальное распределение (не отвергаем H0)\")\n",
    "else:\n",
    "    print(\"Не нормальное распределения (отвергаем H0)\")"
   ]
  },
  {
   "cell_type": "markdown",
   "metadata": {},
   "source": [
    "# Бакетинг VS Будстрап на большем датасете"
   ]
  },
  {
   "cell_type": "code",
   "execution_count": null,
   "metadata": {},
   "outputs": [],
   "source": [
    "plt.figure(figsize=(15, 10))\n",
    "\n",
    "boot_1d = [] # Создаем список получаемых будстапированных значений средних в каждого классе\n",
    "for i in tqdm(range(1000)):\n",
    "    boot_mean = (\n",
    "        big_data.sample(frac=1, replace=True).groupby(\"Class 1\")[\"Attack\"].mean()\n",
    "    )  # retention_1\n",
    "    boot_1d.append(boot_mean)\n",
    "\n",
    "# Преобразование списка в DataFrame\n",
    "boot_1d = pd.DataFrame(boot_1d)\n",
    "\n",
    "# A Kernel Density Estimate plot of the bootstrap distributions\n",
    "boot_1d.plot(kind=\"density\", figsize=(15, 5));"
   ]
  },
  {
   "cell_type": "code",
   "execution_count": null,
   "metadata": {},
   "outputs": [],
   "source": [
    "# Проверим с помощью теста Шапиро!\n",
    "\n",
    "statistic, p_value = stats.shapiro(boot_1d[\"Normal\"])\n",
    "print(\"Статистики=%.3f, p=%.3f\" % (statistic, p_value))\n",
    "\n",
    "if p_value > 0.05:  # Интерпретируем\n",
    "    # H_0 = Распределение нормальное\n",
    "    print(\"Нормальное распределение (не отвергаем H0)\")\n",
    "else:\n",
    "    print(\"Не нормальное распределения (отвергаем H0)\")"
   ]
  },
  {
   "cell_type": "markdown",
   "metadata": {},
   "source": [
    "<div class=\"alert alert-success\">\n",
    "\n",
    "Отлично, теперь различить классы стало проще."
   ]
  },
  {
   "cell_type": "markdown",
   "metadata": {},
   "source": [
    "<div class=\"alert alert-warning\">\n",
    "\n",
    "Обратим внимание, что считается ощутимо дольше! А если мы будем считать не среднее, а любую другую метрику, то время может еще сильнее увеличиться. А чем нам ответит бакетинг?"
   ]
  },
  {
   "cell_type": "markdown",
   "metadata": {},
   "source": [
    "<img src='https://habrastorage.org/r/w1560/webt/cd/1h/x-/cd1hx-k8rgilkmwxafotz3-tgok.png'>\n"
   ]
  },
  {
   "cell_type": "code",
   "execution_count": null,
   "metadata": {},
   "outputs": [],
   "source": [
    "n_bucket = len(big_data) // 200  # Берем бакеты по 250 покемонов\n",
    "big_data['bucket'] = np.random.randint(1, n_bucket+1, len(big_data)) "
   ]
  },
  {
   "cell_type": "code",
   "execution_count": null,
   "metadata": {},
   "outputs": [],
   "source": [
    "# Считаем среднее внутри каждого бакета\n",
    "data_grouped= big_data.groupby(['bucket'], as_index=False).agg(mean_Attack=('Attack', 'mean'))\n",
    "sns.displot(data_grouped, x='mean_Attack', alpha=0.5, height = 6, aspect=1.7, bins=30); "
   ]
  },
  {
   "cell_type": "markdown",
   "metadata": {},
   "source": [
    "<div class=\"alert alert-success\">\n",
    "\n",
    "Моментально отработало!!"
   ]
  },
  {
   "cell_type": "code",
   "execution_count": null,
   "metadata": {},
   "outputs": [],
   "source": [
    "# тест Шапиро!\n",
    "\n",
    "statistic, p_value = stats.shapiro(data_grouped[\"mean_Attack\"])\n",
    "print(\"Статистики=%.3f, p=%.3f\" % (statistic, p_value))\n",
    "\n",
    "if p_value > 0.05:  # Интерпретируем\n",
    "    # H_0 = Распределение нормальное\n",
    "    print(\"Нормальное распределение (не отвергаем H0)\")\n",
    "else:\n",
    "    print(\"Не нормальное распределения (отвергаем H0)\")"
   ]
  },
  {
   "cell_type": "code",
   "execution_count": null,
   "metadata": {},
   "outputs": [],
   "source": []
  },
  {
   "cell_type": "markdown",
   "metadata": {},
   "source": [
    "# Выводы\n",
    "\n",
    "* Будстрап и бакетинг позволяют привести распределение к нормально\n",
    "* Бакетинг больше подходит для крупных датасетов"
   ]
  },
  {
   "cell_type": "code",
   "execution_count": null,
   "metadata": {},
   "outputs": [],
   "source": []
  }
 ],
 "metadata": {
  "kernelspec": {
   "display_name": "Python 3",
   "language": "python",
   "name": "python3"
  },
  "language_info": {
   "codemirror_mode": {
    "name": "ipython",
    "version": 3
   },
   "file_extension": ".py",
   "mimetype": "text/x-python",
   "name": "python",
   "nbconvert_exporter": "python",
   "pygments_lexer": "ipython3",
   "version": "3.8.5"
  },
  "toc": {
   "base_numbering": 1,
   "nav_menu": {},
   "number_sections": true,
   "sideBar": true,
   "skip_h1_title": false,
   "title_cell": "Table of Contents",
   "title_sidebar": "Contents",
   "toc_cell": false,
   "toc_position": {},
   "toc_section_display": true,
   "toc_window_display": false
  }
 },
 "nbformat": 4,
 "nbformat_minor": 4
}
