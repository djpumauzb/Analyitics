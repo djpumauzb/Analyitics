{
 "cells": [
  {
   "cell_type": "markdown",
   "metadata": {},
   "source": [
    "<p style=\"align: center;\"><img align=center src=\"https://mailfit.com/wp-content/uploads/2019/11/lego-5.png\"  width=900></p>\n",
    "<h1 style=\"text-align: center;\"><b>«Домашняя работа» - Множественное тестирование</b></h3>\n"
   ]
  },
  {
   "cell_type": "markdown",
   "metadata": {},
   "source": [
    "## Импорт библиотек"
   ]
  },
  {
   "cell_type": "code",
   "execution_count": 1,
   "metadata": {},
   "outputs": [],
   "source": [
    "import numpy as np\n",
    "import pandas as pd\n",
    "\n",
    "import scipy\n",
    "\n",
    "import matplotlib.pyplot as plt\n",
    "import seaborn as sns\n",
    "sns.set_theme()"
   ]
  },
  {
   "cell_type": "markdown",
   "metadata": {},
   "source": [
    "## Импорт данных"
   ]
  },
  {
   "cell_type": "code",
   "execution_count": 2,
   "metadata": {},
   "outputs": [
    {
     "name": "stdout",
     "output_type": "stream",
     "text": [
      "Размеры датасета (6000, 9)\n"
     ]
    },
    {
     "data": {
      "text/html": [
       "<div>\n",
       "<style scoped>\n",
       "    .dataframe tbody tr th:only-of-type {\n",
       "        vertical-align: middle;\n",
       "    }\n",
       "\n",
       "    .dataframe tbody tr th {\n",
       "        vertical-align: top;\n",
       "    }\n",
       "\n",
       "    .dataframe thead th {\n",
       "        text-align: right;\n",
       "    }\n",
       "</style>\n",
       "<table border=\"1\" class=\"dataframe\">\n",
       "  <thead>\n",
       "    <tr style=\"text-align: right;\">\n",
       "      <th></th>\n",
       "      <th>was_married</th>\n",
       "      <th>children</th>\n",
       "      <th>salary</th>\n",
       "      <th>sex</th>\n",
       "      <th>age</th>\n",
       "      <th>profession</th>\n",
       "      <th>home_cost</th>\n",
       "      <th>drive_info</th>\n",
       "      <th>happyness</th>\n",
       "    </tr>\n",
       "    <tr>\n",
       "      <th>id</th>\n",
       "      <th></th>\n",
       "      <th></th>\n",
       "      <th></th>\n",
       "      <th></th>\n",
       "      <th></th>\n",
       "      <th></th>\n",
       "      <th></th>\n",
       "      <th></th>\n",
       "      <th></th>\n",
       "    </tr>\n",
       "  </thead>\n",
       "  <tbody>\n",
       "    <tr>\n",
       "      <th>0</th>\n",
       "      <td>1</td>\n",
       "      <td>4.0</td>\n",
       "      <td>4.420530e+07</td>\n",
       "      <td>1</td>\n",
       "      <td>82.0</td>\n",
       "      <td>Engineer</td>\n",
       "      <td>1.003674e+07</td>\n",
       "      <td>NaN</td>\n",
       "      <td>0.727499</td>\n",
       "    </tr>\n",
       "    <tr>\n",
       "      <th>1</th>\n",
       "      <td>1</td>\n",
       "      <td>2.0</td>\n",
       "      <td>1.737490e+08</td>\n",
       "      <td>1</td>\n",
       "      <td>32.0</td>\n",
       "      <td>Doctor</td>\n",
       "      <td>1.014051e+07</td>\n",
       "      <td>0.0</td>\n",
       "      <td>0.383234</td>\n",
       "    </tr>\n",
       "    <tr>\n",
       "      <th>2</th>\n",
       "      <td>1</td>\n",
       "      <td>6.0</td>\n",
       "      <td>2.489055e+08</td>\n",
       "      <td>1</td>\n",
       "      <td>14.0</td>\n",
       "      <td>Entertainment</td>\n",
       "      <td>1.043318e+07</td>\n",
       "      <td>NaN</td>\n",
       "      <td>0.432142</td>\n",
       "    </tr>\n",
       "    <tr>\n",
       "      <th>3</th>\n",
       "      <td>0</td>\n",
       "      <td>1.0</td>\n",
       "      <td>1.268718e+08</td>\n",
       "      <td>0</td>\n",
       "      <td>10.0</td>\n",
       "      <td>Lawyer</td>\n",
       "      <td>1.004299e+07</td>\n",
       "      <td>NaN</td>\n",
       "      <td>0.377987</td>\n",
       "    </tr>\n",
       "    <tr>\n",
       "      <th>4</th>\n",
       "      <td>1</td>\n",
       "      <td>9.0</td>\n",
       "      <td>8.596042e+07</td>\n",
       "      <td>1</td>\n",
       "      <td>99.0</td>\n",
       "      <td>Artist</td>\n",
       "      <td>1.021908e+07</td>\n",
       "      <td>NaN</td>\n",
       "      <td>0.657579</td>\n",
       "    </tr>\n",
       "    <tr>\n",
       "      <th>5</th>\n",
       "      <td>1</td>\n",
       "      <td>3.0</td>\n",
       "      <td>2.474979e+06</td>\n",
       "      <td>0</td>\n",
       "      <td>21.0</td>\n",
       "      <td>Homemaker</td>\n",
       "      <td>1.001654e+07</td>\n",
       "      <td>1.0</td>\n",
       "      <td>0.326801</td>\n",
       "    </tr>\n",
       "  </tbody>\n",
       "</table>\n",
       "</div>"
      ],
      "text/plain": [
       "    was_married  children        salary  sex   age     profession  \\\n",
       "id                                                                  \n",
       "0             1       4.0  4.420530e+07    1  82.0       Engineer   \n",
       "1             1       2.0  1.737490e+08    1  32.0         Doctor   \n",
       "2             1       6.0  2.489055e+08    1  14.0  Entertainment   \n",
       "3             0       1.0  1.268718e+08    0  10.0         Lawyer   \n",
       "4             1       9.0  8.596042e+07    1  99.0         Artist   \n",
       "5             1       3.0  2.474979e+06    0  21.0      Homemaker   \n",
       "\n",
       "       home_cost  drive_info  happyness  \n",
       "id                                       \n",
       "0   1.003674e+07         NaN   0.727499  \n",
       "1   1.014051e+07         0.0   0.383234  \n",
       "2   1.043318e+07         NaN   0.432142  \n",
       "3   1.004299e+07         NaN   0.377987  \n",
       "4   1.021908e+07         NaN   0.657579  \n",
       "5   1.001654e+07         1.0   0.326801  "
      ]
     },
     "execution_count": 2,
     "metadata": {},
     "output_type": "execute_result"
    }
   ],
   "source": [
    "data_path = \"https://raw.githubusercontent.com/a-milenkin/mipt_data_science_2021/main/data/people_data_clustering.csv\"\n",
    "data = pd.read_csv(data_path, index_col=0)\n",
    "print(\"Размеры датасета\", data.shape)\n",
    "data.head(6)"
   ]
  },
  {
   "cell_type": "markdown",
   "metadata": {},
   "source": [
    "<div class=\"alert alert-info\">\n",
    "<b>Про Датасет</b>\n",
    "    \n",
    "Датасет представляет собой информацию по жителям некоторого города.\n",
    "\n",
    "* `was_married` - Был ли когда-либо женат/замужем\n",
    "* `children` - Количество детей\n",
    "* `salary` - Уровень зарплаты\n",
    "* `sex` - Пол (0 - женщина, 1 - мужчина)\n",
    "* `age` - Возраст\n",
    "* `home_cost` - Сумарная стоимость жилья/недвижимости\n",
    "* `Professon` - Профессия\n",
    "* `drive_info` - Есть ли водительские права\n",
    "* `happyness` - уровень счастья по результатам опроса\n",
    "    \n",
    "</div>"
   ]
  },
  {
   "cell_type": "code",
   "execution_count": null,
   "metadata": {},
   "outputs": [],
   "source": [
    " "
   ]
  },
  {
   "cell_type": "markdown",
   "metadata": {},
   "source": [
    "<div class=\"alert alert-info\">\n",
    "<b>Задание</b>\n",
    "\n",
    "Изучить датасет, выполнить задания и проверить некоторые гипотезы, предложенные ниже, опираясь уже **НЕ** только на визуализацию. Само задание выполнить на языке **Python**.\n",
    "   "
   ]
  },
  {
   "cell_type": "code",
   "execution_count": null,
   "metadata": {},
   "outputs": [],
   "source": [
    " "
   ]
  },
  {
   "cell_type": "markdown",
   "metadata": {},
   "source": [
    "# Чистка датасета\n",
    "* Есть ли дубли в данных? Если есть - удалить (drop_duplicates). \n",
    "* Есть ли пропуски в данных? Если есть - удалить столбцы, в которых они есть. (dropna())\n",
    "* Найти и удалить/отфильтровать выбросы по признаку `home_cost`. Сколько их?"
   ]
  },
  {
   "cell_type": "code",
   "execution_count": null,
   "metadata": {},
   "outputs": [],
   "source": [
    "# YOUR CODE"
   ]
  },
  {
   "cell_type": "markdown",
   "metadata": {},
   "source": [
    "# Проверка гипотез"
   ]
  },
  {
   "cell_type": "markdown",
   "metadata": {},
   "source": [
    "# Изучение датасета \n",
    "* Какие признаки численные?\n",
    "* Какие признаки категориальные?\n",
    "* Какие признаки имеют нормальное распределение?\n",
    "* Какие признаки бессмысленные?"
   ]
  },
  {
   "cell_type": "markdown",
   "metadata": {},
   "source": [
    "<div class=\"alert alert-info\">\n",
    "\n",
    "<b>Задание:</b>    \n",
    "    \n",
    "Перед вами уже знакомый датасет, который был дан в прошлых домашних заданиях. Вы уже научились применить подходящий статистический критерий для двух групп, теперь вам предстоит научиться верно применять критерии для нескольких групп одновременно. \n",
    "    "
   ]
  },
  {
   "cell_type": "markdown",
   "metadata": {},
   "source": [
    "<div class=\"alert alert-warning\">\n",
    "    \n",
    "* Правда ли между представителями таких профессий как, **Homemaker**, **Marketing**, **Healthcare** и **Executive** в среднем  зарплаты не отличаются между собой? Ответ подкрепите визуализацией и подходящим статистическим критерием. "
   ]
  },
  {
   "cell_type": "code",
   "execution_count": null,
   "metadata": {},
   "outputs": [],
   "source": [
    "# YOUR CODE"
   ]
  },
  {
   "cell_type": "markdown",
   "metadata": {},
   "source": [
    "<div class=\"alert alert-warning\">\n",
    "    \n",
    "* Правда ли между представителями таких профессий как, **Doctor**, **Entertainment** и **Lawyer** в среднем  зарплаты не отличаются между собой? Ответ подкрепите визуализацией и подходящим статистическим критерием. "
   ]
  },
  {
   "cell_type": "code",
   "execution_count": null,
   "metadata": {},
   "outputs": [],
   "source": [
    " # YOUR CODE"
   ]
  },
  {
   "cell_type": "markdown",
   "metadata": {},
   "source": [
    "<div class=\"alert alert-warning\">\n",
    "    \n",
    "Допустим вы рассматриваете 4 группы населения, отличающихся количеством  детей. Группы следующие.\n",
    "* **A** - нет детей\n",
    "* **B** - 1 ребенок\n",
    "* **C** - от 2 до 4 детей\n",
    "* **D** - от 5 детей    \n",
    "    \n",
    "    \n",
    "* Правда ли, что эти группы отличаются статистически значимо по уровню дохода и уровню счастья? Ответ поддержите статистическими критериями и визуализацией"
   ]
  },
  {
   "cell_type": "code",
   "execution_count": null,
   "metadata": {},
   "outputs": [],
   "source": [
    " # YOUR CODE"
   ]
  }
 ],
 "metadata": {
  "kernelspec": {
   "display_name": "Python 3",
   "language": "python",
   "name": "python3"
  },
  "language_info": {
   "codemirror_mode": {
    "name": "ipython",
    "version": 3
   },
   "file_extension": ".py",
   "mimetype": "text/x-python",
   "name": "python",
   "nbconvert_exporter": "python",
   "pygments_lexer": "ipython3",
   "version": "3.8.5"
  },
  "toc": {
   "base_numbering": 1,
   "nav_menu": {},
   "number_sections": true,
   "sideBar": true,
   "skip_h1_title": false,
   "title_cell": "Table of Contents",
   "title_sidebar": "Contents",
   "toc_cell": false,
   "toc_position": {},
   "toc_section_display": true,
   "toc_window_display": false
  }
 },
 "nbformat": 4,
 "nbformat_minor": 4
}
