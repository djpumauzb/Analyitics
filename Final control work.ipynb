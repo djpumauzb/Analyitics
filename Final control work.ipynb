{
 "cells": [
  {
   "cell_type": "markdown",
   "metadata": {},
   "source": [
    "Подведите результаты эксперимента в экселе по следующим данным: ab_stats.csv - Google Диск: Стат значимо ли отличается ARPPU в двух группах ? Какие рекомендации дадите менеджеру?"
   ]
  },
  {
   "cell_type": "code",
   "execution_count": 1,
   "metadata": {},
   "outputs": [],
   "source": [
    "import numpy as np\n",
    "import pandas as pd\n",
    "\n",
    "import scipy\n",
    "\n",
    "import matplotlib.pyplot as plt\n",
    "import seaborn as sns\n",
    "sns.set_theme()"
   ]
  },
  {
   "cell_type": "code",
   "execution_count": 7,
   "metadata": {},
   "outputs": [
    {
     "name": "stdout",
     "output_type": "stream",
     "text": [
      "Размеры датасета (23652, 5)\n"
     ]
    },
    {
     "data": {
      "text/html": [
       "<div>\n",
       "<style scoped>\n",
       "    .dataframe tbody tr th:only-of-type {\n",
       "        vertical-align: middle;\n",
       "    }\n",
       "\n",
       "    .dataframe tbody tr th {\n",
       "        vertical-align: top;\n",
       "    }\n",
       "\n",
       "    .dataframe thead th {\n",
       "        text-align: right;\n",
       "    }\n",
       "</style>\n",
       "<table border=\"1\" class=\"dataframe\">\n",
       "  <thead>\n",
       "    <tr style=\"text-align: right;\">\n",
       "      <th></th>\n",
       "      <th>revenue</th>\n",
       "      <th>num_purchases</th>\n",
       "      <th>purchase</th>\n",
       "      <th>ab_group</th>\n",
       "      <th>av_site visit</th>\n",
       "    </tr>\n",
       "  </thead>\n",
       "  <tbody>\n",
       "    <tr>\n",
       "      <th>0</th>\n",
       "      <td>0.0</td>\n",
       "      <td>0</td>\n",
       "      <td>0</td>\n",
       "      <td>A</td>\n",
       "      <td>9.040174</td>\n",
       "    </tr>\n",
       "    <tr>\n",
       "      <th>1</th>\n",
       "      <td>0.0</td>\n",
       "      <td>0</td>\n",
       "      <td>0</td>\n",
       "      <td>A</td>\n",
       "      <td>4.811628</td>\n",
       "    </tr>\n",
       "    <tr>\n",
       "      <th>2</th>\n",
       "      <td>0.0</td>\n",
       "      <td>0</td>\n",
       "      <td>0</td>\n",
       "      <td>A</td>\n",
       "      <td>7.342623</td>\n",
       "    </tr>\n",
       "    <tr>\n",
       "      <th>3</th>\n",
       "      <td>0.0</td>\n",
       "      <td>0</td>\n",
       "      <td>0</td>\n",
       "      <td>A</td>\n",
       "      <td>7.744581</td>\n",
       "    </tr>\n",
       "    <tr>\n",
       "      <th>4</th>\n",
       "      <td>0.0</td>\n",
       "      <td>0</td>\n",
       "      <td>0</td>\n",
       "      <td>A</td>\n",
       "      <td>10.511814</td>\n",
       "    </tr>\n",
       "    <tr>\n",
       "      <th>5</th>\n",
       "      <td>0.0</td>\n",
       "      <td>0</td>\n",
       "      <td>0</td>\n",
       "      <td>A</td>\n",
       "      <td>9.578727</td>\n",
       "    </tr>\n",
       "  </tbody>\n",
       "</table>\n",
       "</div>"
      ],
      "text/plain": [
       "   revenue  num_purchases  purchase ab_group  av_site visit\n",
       "0      0.0              0         0        A       9.040174\n",
       "1      0.0              0         0        A       4.811628\n",
       "2      0.0              0         0        A       7.342623\n",
       "3      0.0              0         0        A       7.744581\n",
       "4      0.0              0         0        A      10.511814\n",
       "5      0.0              0         0        A       9.578727"
      ]
     },
     "execution_count": 7,
     "metadata": {},
     "output_type": "execute_result"
    }
   ],
   "source": [
    "data_path = \"./ab_stats.csv\"\n",
    "data = pd.read_csv(data_path)\n",
    "print(\"Размеры датасета\", data.shape)\n",
    "data.head(6)"
   ]
  },
  {
   "cell_type": "markdown",
   "metadata": {},
   "source": [
    "1. `revenue`: доход.\n",
    "2. `num_purchases`: количество покупок.\n",
    "3. `purchase`: индикатор покупки (0 или 1).\n",
    "4. `ab_group`: группа (A или B).\n",
    "5. `av_site visit`: время посещения сайта."
   ]
  },
  {
   "cell_type": "markdown",
   "metadata": {},
   "source": [
    "# 2\n",
    "\n",
    "Мы хотим провести А/Б-тест для трех источников трафика. Нынешняя конверсия равна 5%, мы ожидаем прирост в 0,2%. Уровень доверия 97% и уровень мощности 87%. Всего на наш продукт заходит 40 000 пользователей в месяц."
   ]
  },
  {
   "cell_type": "markdown",
   "metadata": {},
   "source": [
    "# 3\n",
    "За сколько дней мы сможем протестировать гипотезу? И что вы можете посоветовать по результатам подсчета?\n",
    "# 3.1 \n",
    "\n",
    "Допустим в задаче 3 нет проблемы с количеством посетителей на сайт, тогда подведите результаты тестирования, если у нас следующие результаты по количеству конверсии:\n",
    "\n",
    "\n",
    "    1. 25 000 \n",
    "    2. 30 000 \n",
    "    3. 32 000"
   ]
  },
  {
   "cell_type": "markdown",
   "metadata": {},
   "source": []
  },
  {
   "cell_type": "markdown",
   "metadata": {},
   "source": [
    "Проведем статистический тест (например, Z-тест) для проверки гипотезы о значимости различий."
   ]
  },
  {
   "cell_type": "code",
   "execution_count": 12,
   "metadata": {},
   "outputs": [
    {
     "name": "stdout",
     "output_type": "stream",
     "text": [
      "Sample size per group: 258087 \n",
      " Required days: 388.0\n"
     ]
    }
   ],
   "source": [
    "from statsmodels.stats.power import zt_ind_solve_power\n",
    "import numpy as np\n",
    "\n",
    "# Исходные данные для расчета\n",
    "current_conversion = 0.05  # Текущая конверсия\n",
    "expected_improvement = 0.002  # Ожидаемое улучшение\n",
    "alpha = 0.03  # Уровень значимости (1 - уровень доверия)\n",
    "power = 0.87  # Уровень мощности\n",
    "\n",
    "# Конверсия в варианте B\n",
    "alternative_conversion = current_conversion + expected_improvement\n",
    "\n",
    "# Расчет эффекта (effect size)\n",
    "effect_size = (alternative_conversion - current_conversion) / (\n",
    "    (current_conversion * (1 - current_conversion)) ** 0.5\n",
    ")\n",
    "\n",
    "# Расчет минимального размера выборки для одной группы\n",
    "sample_size_per_group = zt_ind_solve_power(\n",
    "    effect_size=effect_size, alpha=alpha, power=power, alternative=\"two-sided\"\n",
    ")\n",
    "sample_size_per_group = int(np.ceil(sample_size_per_group))  # Округление до целого числа\n",
    "\n",
    "# Всего пользователей в месяц\n",
    "total_users_per_month = 40000\n",
    "\n",
    "# Пользователи, которые могут участвовать в тесте (делим на 2 группы)\n",
    "daily_users_per_group = total_users_per_month / 30 / 2\n",
    "\n",
    "# Количество дней, необходимых для теста\n",
    "required_days = np.ceil(sample_size_per_group / daily_users_per_group)\n",
    "\n",
    "print(f\"Sample size per group: {sample_size_per_group} \\n Required days: {required_days}\")"
   ]
  },
  {
   "cell_type": "markdown",
   "metadata": {},
   "source": [
    "### Рекомендации:\n",
    "**Долгое время тестирования:**\n",
    "Такой длительный период (более года) может быть неэффективным для принятия решений.\n",
    "Рассмотрите возможность увеличения трафика на тестируемые варианты (например, привлечение большего числа пользователей из конкретных источников).\n",
    "\n",
    "**Пересмотр ожидаемого эффекта:**\n",
    "Прирост в 0.2% (от 5% до 5.2%) — это очень небольшой эффект. Если вы считаете возможным допустить большее отклонение, например, 0.5%, то это сократит необходимый объем выборки.\n",
    "\n",
    "**Сегментация:**\n",
    "Вы можете протестировать гипотезу на сегментах аудитории (например, только один источник трафика) для ускорения анализа."
   ]
  },
  {
   "cell_type": "code",
   "execution_count": 26,
   "metadata": {},
   "outputs": [
    {
     "name": "stdout",
     "output_type": "stream",
     "text": [
      "Conversion Rate A0.09686656050091635 \n",
      " Conversion Rate B1: 0.11623987260109962 \n",
      " Conversion Rate B2: 0.12398919744117294 \n",
      " Z-Statistic A vs B1: -22.55559639262107 \n",
      " P-Value A vs B1: 1.1833335767987e-112 \n",
      " Z-Statistic A vs B2: -31.08637132270179 \n",
      " P-Value A vs B2: 3.6810782381434956e-212\n"
     ]
    }
   ],
   "source": [
    "# Результаты тестирования: количество конверсий в группах\n",
    "conversions_A = 25000  # Группа A\n",
    "conversions_B1 = 30000  # Группа B1\n",
    "conversions_B2 = 32000  # Группа B2\n",
    "\n",
    "# Размер выборок для групп (в каждой группе одинаковое количество участников)\n",
    "sample_size_A = sample_size_per_group\n",
    "sample_size_B1 = sample_size_per_group\n",
    "sample_size_B2 = sample_size_per_group\n",
    "\n",
    "# Расчет конверсий для каждой группы\n",
    "conversion_rate_A = conversions_A / sample_size_A\n",
    "conversion_rate_B1 = conversions_B1 / sample_size_B1\n",
    "conversion_rate_B2 = conversions_B2 / sample_size_B2\n",
    "\n",
    "# Z-тест для сравнения группы A с группой B1 и B2\n",
    "from statsmodels.stats.proportion import proportions_ztest\n",
    "\n",
    "# Группа A vs Группа B1\n",
    "stat_B1, pval_B1 = proportions_ztest([conversions_A, conversions_B1], [sample_size_A, sample_size_B1])\n",
    "\n",
    "# Группа A vs Группа B2\n",
    "stat_B2, pval_B2 = proportions_ztest([conversions_A, conversions_B2], [sample_size_A, sample_size_B2])\n",
    "\n",
    "# Итоговые конверсии и результаты теста\n",
    "print(f\"Conversion Rate A{conversion_rate_A} \\n\",\n",
    "        f\"Conversion Rate B1: {conversion_rate_B1} \\n\",\n",
    "        f\"Conversion Rate B2: {conversion_rate_B2} \\n\",\n",
    "        f\"Z-Statistic A vs B1: {stat_B1} \\n\",\n",
    "        f\"P-Value A vs B1: {pval_B1} \\n\",\n",
    "        f\"Z-Statistic A vs B2: {stat_B2} \\n\",\n",
    "        f\"P-Value A vs B2: {pval_B2}\")\n"
   ]
  },
  {
   "cell_type": "markdown",
   "metadata": {},
   "source": [
    "**Конверсии:**\n",
    "\n",
    "Группа A: 9.69% (25,000 / 258,087).\n",
    "\n",
    "Группа B1: 11.62% (30,000 / 258,087).\n",
    "\n",
    "Группа B2: 12.40% (32,000 / 258,087).\n",
    "\n",
    "**Сравнение A vs B1:**\n",
    "\n",
    "Z-статистика: -22.56.\n",
    "\n",
    "P-значение: значительно ниже уровня значимости (0.03)\n",
    "\n",
    "Вывод: Различия между группами A и B1 статистически значимы.\n",
    "\n",
    "**Сравнение A vs B2:**\n",
    "\n",
    "Z-статистика: -31.09.\n",
    "\n",
    "P-значение: значительно ниже уровня значимости (0.03)\n",
    "\n",
    "Вывод: Различия между группами A и B2 статистически значимы.\n",
    "\n",
    "**Рекомендации:**\n",
    "\n",
    "Группы B1 и B2 показали значительно лучшую конверсию по сравнению с группой A.\n",
    "\n",
    "Между B1 и B2 также можно провести тест, чтобы определить, есть ли значимые различия, если важно выбрать лучшее из двух.\n",
    "\n",
    "Учитывая статистическую значимость, есть основание для перехода на новую версию, представленную в группах B1 или B2."
   ]
  },
  {
   "cell_type": "markdown",
   "metadata": {},
   "source": [
    "# 4.\n",
    "Вы решили сравнивать метрику CPA в двух группах. Размер выборки - 2350 элементов в каждой группе. \n",
    "    \n",
    "Для проверки нормальности распределения на выборке в 2350 наблюдений применили , критерий Шапиро-Уилка и получили p-value, равный 0.00002, alpha = 5%. \n",
    "   \n",
    "Какой бы вывод мы могли сделать в данном случае? \n",
    "    \n",
    "\n",
    "В этом случае какой статистический критерий для проверки первоначальной гипотезы тут лучше всего подойдёт и почему ?"
   ]
  },
  {
   "cell_type": "code",
   "execution_count": 37,
   "metadata": {},
   "outputs": [
    {
     "name": "stdout",
     "output_type": "stream",
     "text": [
      "Shapiro-Wilk Test Group A: \n",
      " Statistic: 0.8211322394153019, \n",
      " P-Value: 2.4476946053526133e-45 \n",
      " \n",
      " Shapiro-Wilk Test Group B: \n",
      " Statistic: 0.8199248918501773, \n",
      " P-Value: 1.9182246955873275e-45 \n",
      " \n",
      " Mann-Whitney U Test: \n",
      " U-Statistic: 2705915.0, \n",
      " P-Value: 0.2341792283274131\n"
     ]
    }
   ],
   "source": [
    "from scipy.stats import shapiro, mannwhitneyu\n",
    "import numpy as np\n",
    "\n",
    "# Генерация данных для примера\n",
    "np.random.seed(42)  # Для воспроизводимости\n",
    "group_A = np.random.exponential(scale=2.0, size=2350)  # Данные группы A (нормальные)\n",
    "group_B = np.random.exponential(scale=2.1, size=2350)  # Данные группы B (нормальные)\n",
    "\n",
    "# Проверка нормальности распределения с помощью теста Шапиро-Уилка\n",
    "stat_A, pval_A = shapiro(group_A)\n",
    "stat_B, pval_B = shapiro(group_B)\n",
    "\n",
    "# Применение U-теста Манна-Уитни для сравнения двух групп\n",
    "u_stat, p_value_u = mannwhitneyu(group_A, group_B, alternative=\"two-sided\")\n",
    "\n",
    "print(f\"Shapiro-Wilk Test Group A: \\n Statistic: {stat_A}, \\n P-Value: {pval_A} \\n\", \n",
    "      f\"\\n Shapiro-Wilk Test Group B: \\n Statistic: {stat_B}, \\n P-Value: {pval_B} \\n\",\n",
    "      f\"\\n Mann-Whitney U Test: \\n U-Statistic: {u_stat}, \\n P-Value: {p_value_u}\")"
   ]
  },
  {
   "cell_type": "markdown",
   "metadata": {},
   "source": [
    "**Вывод:** нет статистически значимой разницы между группами A и B по сравнению метрики CPA.\n",
    "\n",
    "Поскольку данные не распределены нормально, использование параметрических тестов, таких как t-тест, может быть некорректным. Для проверки гипотезы лучше использовать непараметрические тесты, например, **U-тест Манна-Уитни**"
   ]
  },
  {
   "cell_type": "markdown",
   "metadata": {},
   "source": [
    "# 5. \n",
    "\n",
    "Мы провели АБ-тест на увеличение average timespent  per user. По итогам тестирования мы получили следующие данные. Является ли результат статистически значимым с уровнем доверия 80%? Какую версию мы выкатим на продакшн? \n",
    "\n",
    "A) Средняя - 360, отклонение - 40, количество - 9802 \n",
    "\n",
    "B) Средняя - 352, отклонение - 58, количество - 9789"
   ]
  },
  {
   "cell_type": "code",
   "execution_count": 39,
   "metadata": {},
   "outputs": [
    {
     "name": "stdout",
     "output_type": "stream",
     "text": [
      "T-Statistic: 11.236630785707332 \n",
      " P-Value: 3.397782878412232e-29 \n",
      " Significance_Level (Alpha): 0.2 \n",
      " Statistically Significant: True\n"
     ]
    }
   ],
   "source": [
    "# Импортируем недостающую функцию для t-теста\n",
    "from scipy.stats import ttest_ind_from_stats\n",
    "\n",
    "mean_A, std_A, n_A = 360, 40, 9802\n",
    "mean_B, std_B, n_B = 352, 58, 9789\n",
    "\n",
    "# Проведение t-теста на основе заданных данных\n",
    "t_stat, p_value = ttest_ind_from_stats(\n",
    "    mean1=mean_A, std1=std_A, nobs1=n_A,\n",
    "    mean2=mean_B, std2=std_B, nobs2=n_B,\n",
    "    equal_var=False  # Не предполагаем равенство дисперсий\n",
    ")\n",
    "\n",
    "# Вывод результатов\n",
    "print(f\"T-Statistic: {t_stat} \\n\",\n",
    "        f\"P-Value: {p_value} \\n\",\n",
    "    f\"Significance_Level (Alpha): 0.2 \\n\",\n",
    "    f\"Statistically Significant: {p_value < 0.2}\")"
   ]
  },
  {
   "cell_type": "markdown",
   "metadata": {},
   "source": [
    "Результат является статистически значимым при уровне доверия 80%.\n",
    "Есть достаточные основания утверждать, что среднее время, проведённое пользователями, отличается между группами A и B.\n",
    "\n",
    "**Рекомендация:**\n",
    "Версия на продакшн: Группа A, так как её среднее время (360 секунд) больше, чем у группы B (352 секунды). Выбор этой версии приведёт к увеличению времени, проводимого пользователями на платформе. ​"
   ]
  },
  {
   "cell_type": "markdown",
   "metadata": {},
   "source": [
    "# 6.\n",
    "\n",
    "Создайте техническую архитектуру проекта по аб тестированию продукта он-лайн кинотеатра с учетом кросс-девайс аналитики по следующей гипотезе:\n",
    "    \n",
    "Если договориться с банком о 99% кэшбэке на подписку первого месяца, то это повысит конверсию в подписку на 30%, благодаря упрощенному принятию решения со стороны пользователя. \n",
    "    \n",
    "На схеме необходимо отобразить:\n",
    "    \n",
    "    1. Управленческий процесс по договоренностям с внешними партнерами \n",
    "    2. Архитектуру данных с указанием систем, из которых будем скачивать данные \n",
    "    3. Внутрикомандное взаимодействие"
   ]
  },
  {
   "cell_type": "markdown",
   "metadata": {},
   "source": [
    "### Техническая архитектура проекта A/B-тестирования с учетом кросс-девайс аналитики\n",
    "\n",
    "**1. Управленческий процесс:**\n",
    "\n",
    "Договоренности с банком о 99% кэшбэке.\n",
    "Настройка механизма взаимодействия через API.\n",
    "\n",
    "**2.Архитектура данных:**\n",
    "\n",
    "Источники данных:\n",
    "\n",
    "* Платформа кинотеатра (CMS, CRM).\n",
    "* Финансовый API банка.\n",
    "* Системы кросс-девайс аналитики (Google Analytics, Amplitude).\n",
    "\n",
    "Хранилище данных:\n",
    "\n",
    "* Data Lake для сырой информации.\n",
    "* Data Warehouse для аналитики.\n",
    "\n",
    "Инструменты:\n",
    "\n",
    "* SQL/BI-платформы, Python для анализа.\n",
    "\n",
    "**3. Внутрикомандное взаимодействие:**\n",
    "\n",
    "* Продакт-менеджер: постановка целей.\n",
    "* Аналитики: сбор и анализ данных.\n",
    "* Разработчики: интеграция API.\n",
    "* Маркетинг: настройка трекинга и продвижение гипотезы."
   ]
  }
 ],
 "metadata": {
  "kernelspec": {
   "display_name": "Python 3",
   "language": "python",
   "name": "python3"
  },
  "language_info": {
   "codemirror_mode": {
    "name": "ipython",
    "version": 3
   },
   "file_extension": ".py",
   "mimetype": "text/x-python",
   "name": "python",
   "nbconvert_exporter": "python",
   "pygments_lexer": "ipython3",
   "version": "3.13.0"
  }
 },
 "nbformat": 4,
 "nbformat_minor": 2
}
